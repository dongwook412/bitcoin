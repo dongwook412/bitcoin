{
 "cells": [
  {
   "cell_type": "code",
   "execution_count": 2,
   "id": "municipal-classic",
   "metadata": {},
   "outputs": [],
   "source": [
    "import os\n",
    "os.chdir('../')"
   ]
  },
  {
   "cell_type": "markdown",
   "id": "existing-authorization",
   "metadata": {},
   "source": [
    "### 현재 디렉토리가 smtm 프로젝트 root로 설정되었는지 확인"
   ]
  },
  {
   "cell_type": "code",
   "execution_count": 3,
   "id": "apart-eclipse",
   "metadata": {},
   "outputs": [
    {
     "name": "stdout",
     "output_type": "stream",
     "text": [
      "현재 디렉토리  c:\\\n"
     ]
    }
   ],
   "source": [
    "print(\"현재 디렉토리 \" , os.getcwd())"
   ]
  },
  {
   "cell_type": "markdown",
   "id": "drawn-layout",
   "metadata": {},
   "source": [
    "#### 초기화 -  초기 자산 정보와 자산 정보 업데이트 함수 설정, 기준점 생성"
   ]
  },
  {
   "cell_type": "code",
   "execution_count": 4,
   "id": "optional-ready",
   "metadata": {},
   "outputs": [
    {
     "ename": "ModuleNotFoundError",
     "evalue": "No module named 'smtm'",
     "output_type": "error",
     "traceback": [
      "\u001b[1;31m---------------------------------------------------------------------------\u001b[0m",
      "\u001b[1;31mModuleNotFoundError\u001b[0m                       Traceback (most recent call last)",
      "\u001b[1;32mc:\\bitcoin\\notebook\\analyzer_test.ipynb Cell 5\u001b[0m in \u001b[0;36m<cell line: 1>\u001b[1;34m()\u001b[0m\n\u001b[1;32m----> <a href='vscode-notebook-cell:/c%3A/bitcoin/notebook/analyzer_test.ipynb#W4sZmlsZQ%3D%3D?line=0'>1</a>\u001b[0m \u001b[39mfrom\u001b[39;00m \u001b[39msmtm\u001b[39;00m \u001b[39mimport\u001b[39;00m Analyzer\n\u001b[0;32m      <a href='vscode-notebook-cell:/c%3A/bitcoin/notebook/analyzer_test.ipynb#W4sZmlsZQ%3D%3D?line=1'>2</a>\u001b[0m analyzer \u001b[39m=\u001b[39m Analyzer(sma_s\u001b[39m=\u001b[39m\u001b[39m20\u001b[39m, sma_l\u001b[39m=\u001b[39m\u001b[39m60\u001b[39m)\n",
      "\u001b[1;31mModuleNotFoundError\u001b[0m: No module named 'smtm'"
     ]
    }
   ],
   "source": [
    "from smtm import Analyzer\n",
    "analyzer = Analyzer(sma_s=20, sma_l=60)"
   ]
  },
  {
   "cell_type": "code",
   "execution_count": null,
   "id": "virgin-ballet",
   "metadata": {},
   "outputs": [],
   "source": [
    "# asset_info 변수로 함수의 반환값을 설정하기 위한 테스트용 함수\n",
    "def test_update_info_func():\n",
    "    asset_info = {\n",
    "        \"balance\": 50000,\n",
    "        \"asset\": {},\n",
    "        \"quote\": {\"KRW-BTC\": 26145000.0},\n",
    "        \"date_time\": \"2020-12-21T01:13:00\",\n",
    "    }\n",
    "    return asset_info\n",
    "\n",
    "analyzer.initialize(test_update_info_func)\n",
    "analyzer.make_start_point()"
   ]
  },
  {
   "cell_type": "markdown",
   "id": "accurate-circumstances",
   "metadata": {},
   "source": [
    "#### put_trading_info가 호출된 후에 info_list가 어떻게 업데이트 되었는지 확인"
   ]
  },
  {
   "cell_type": "code",
   "execution_count": null,
   "id": "interstate-bahrain",
   "metadata": {},
   "outputs": [],
   "source": [
    "info = {\n",
    "    \"market\": \"KRW-BTC\",\n",
    "    \"date_time\": \"2020-12-21T01:13:00\",\n",
    "    \"opening_price\": 26155000.0,\n",
    "    \"high_price\": 26158000.0,\n",
    "    \"low_price\": 26132000.0,\n",
    "    \"closing_price\": 26145000.0,\n",
    "    \"acc_price\": 116448937.40051,\n",
    "    \"acc_volume\": 4.45311465,\n",
    "}\n",
    "analyzer.put_trading_info(info)\n",
    "analyzer.info_list"
   ]
  },
  {
   "cell_type": "markdown",
   "id": "involved-peeing",
   "metadata": {},
   "source": [
    "#### put_requests 가 호출된 후에 request_list가 어떻게 업데이트 되었는지 확인"
   ]
  },
  {
   "cell_type": "code",
   "execution_count": null,
   "id": "adverse-aquatic",
   "metadata": {},
   "outputs": [],
   "source": [
    "requests = [\n",
    "    {\n",
    "        \"id\": \"1621767063.373\",\n",
    "        \"type\": \"buy\",\n",
    "        \"price\": 26145000.0,\n",
    "        \"amount\": 0.0004,\n",
    "        \"date_time\": \"2020-12-21T01:13:00\",\n",
    "    }\n",
    "]\n",
    "analyzer.put_requests(requests)\n",
    "analyzer.request_list"
   ]
  },
  {
   "cell_type": "markdown",
   "id": "bronze-carolina",
   "metadata": {},
   "source": [
    "#### put_result 가 호출된 후에 result_list가 어떻게 업데이트 되었는지 확인"
   ]
  },
  {
   "cell_type": "code",
   "execution_count": null,
   "id": "gentle-skill",
   "metadata": {},
   "outputs": [],
   "source": [
    "result = {\n",
    "    \"request\": {\n",
    "        \"id\": \"1621767063.373\",\n",
    "        \"type\": \"buy\",\n",
    "        \"price\": 26145000.0,\n",
    "        \"amount\": 0.0004,\n",
    "        \"date_time\": \"2020-12-21T01:13:00\",\n",
    "    },\n",
    "    \"type\": \"buy\",\n",
    "    \"price\": 26145000.0,\n",
    "    \"amount\": 0.0004,\n",
    "    \"msg\": \"success\",\n",
    "    \"balance\": 39537,\n",
    "    \"state\": \"done\",\n",
    "    \"date_time\": \"2020-12-21T01:13:00\",\n",
    "}\n",
    "analyzer.put_result(result)\n",
    "analyzer.result_list"
   ]
  },
  {
   "cell_type": "markdown",
   "id": "above-trust",
   "metadata": {},
   "source": [
    "#### test_update_info_func을 통해 전달된 자산 정보에 따라 asset_info_list가 어떻게 업데이트 되는지 확인"
   ]
  },
  {
   "cell_type": "code",
   "execution_count": null,
   "id": "attempted-calculator",
   "metadata": {},
   "outputs": [],
   "source": [
    "def test_update_info_func():\n",
    "    asset_info = {\n",
    "        \"balance\": 39537,\n",
    "        \"asset\": {\"KRW-BTC\": (26145000.0, 0.0004)},\n",
    "        \"quote\": {\"KRW-BTC\": 26132000.0},\n",
    "        \"date_time\": \"2020-12-21T01:14:00\",\n",
    "    }\n",
    "    return asset_info\n",
    "\n",
    "analyzer.get_asset_info_func = test_update_info_func\n",
    "analyzer.update_asset_info()\n",
    "analyzer.asset_info_list"
   ]
  },
  {
   "cell_type": "markdown",
   "id": "circular-provider",
   "metadata": {},
   "source": [
    "#### 보고서 결과 확인, (시작 자산, 최종 자산, 기준 시점부터 누적 수익률, 기준 시점부터 보유 종목별 가격 변동률 딕셔너리)"
   ]
  },
  {
   "cell_type": "code",
   "execution_count": null,
   "id": "coral-arctic",
   "metadata": {},
   "outputs": [],
   "source": [
    "analyzer.get_return_report(graph_filename=\"test.jpg\", index=-2)"
   ]
  },
  {
   "cell_type": "code",
   "execution_count": null,
   "id": "binding-marina",
   "metadata": {},
   "outputs": [],
   "source": [
    "analyzer.load_dump()"
   ]
  },
  {
   "cell_type": "code",
   "execution_count": null,
   "id": "missing-mercy",
   "metadata": {},
   "outputs": [],
   "source": [
    "analyzer.info_list"
   ]
  },
  {
   "cell_type": "code",
   "execution_count": null,
   "id": "blind-trauma",
   "metadata": {},
   "outputs": [],
   "source": [
    "analyzer.dump()"
   ]
  },
  {
   "cell_type": "code",
   "execution_count": null,
   "id": "automatic-butter",
   "metadata": {},
   "outputs": [],
   "source": []
  }
 ],
 "metadata": {
  "kernelspec": {
   "display_name": "Python 3",
   "language": "python",
   "name": "python3"
  },
  "language_info": {
   "codemirror_mode": {
    "name": "ipython",
    "version": 3
   },
   "file_extension": ".py",
   "mimetype": "text/x-python",
   "name": "python",
   "nbconvert_exporter": "python",
   "pygments_lexer": "ipython3",
   "version": "3.9.12"
  }
 },
 "nbformat": 4,
 "nbformat_minor": 5
}
